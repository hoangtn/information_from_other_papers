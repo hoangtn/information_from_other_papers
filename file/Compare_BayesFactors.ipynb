{
 "cells": [
  {
   "cell_type": "code",
   "execution_count": 1,
   "id": "1461269a-b3fc-43ce-b470-8bab9bac917d",
   "metadata": {},
   "outputs": [],
   "source": [
    "# Bayes Factor function from the originnal TADA model. \n",
    "# In this function, the original code uses the \"dnbinnom\" function of R."
   ]
  },
  {
   "cell_type": "code",
   "execution_count": 2,
   "id": "3fd2dc8c-5769-4b24-9923-9fa077816e57",
   "metadata": {},
   "outputs": [],
   "source": [
    "# Bayes factor of de novo counts of a gene \n",
    "# x: the de novo count\n",
    "# N: the sample size (number of families)\n",
    "# mu: the mutation rate (of this type of mutational events)\n",
    "# Prior distribution of RR: gamma ~ Gamma(gamma.mean*beta, beta)\n",
    "bayes.factor.denovo <- function(x, N, mu, gamma.mean, beta) {\n",
    "  marg.lik0 <- dpois(x, 2*N*mu)\n",
    "  marg.lik1 <- dnbinom(x, gamma.mean*beta, beta/(beta+2*N*mu))\n",
    "  BF <- marg.lik1/marg.lik0\n",
    "  \n",
    "  return (BF)\n",
    "}\n"
   ]
  },
  {
   "cell_type": "code",
   "execution_count": 3,
   "id": "94273e68-6e0d-4776-818b-0450eee127a7",
   "metadata": {},
   "outputs": [],
   "source": [
    "# Bayes Factor function for numerical integration. \n",
    "# We DO NOT USE the built-in function \"dnbinom\" of R, and set \"subdivisions = 500L\" here"
   ]
  },
  {
   "cell_type": "code",
   "execution_count": 4,
   "id": "6a4feab4-5f5b-4ecc-9b61-ea8c339f1955",
   "metadata": {},
   "outputs": [],
   "source": [
    "##################Use numerical integration for marg.lik1\n",
    "##Note: the parameter \"subdivisionns\" can affect final results.\n",
    "\n",
    "bayes.factor.denovo1 <- function(x, N, mu, gamma.mean, beta) {\n",
    "\n",
    "    ##Model 0\n",
    "    marg.lik0 <- dpois(x, 2*N*mu)\n",
    "    ##Model 1\n",
    "    ###Create a function for x ~ Poisson(2*N*mu*x.gamma) and x.gamma ~ Gamma(gamma.mean*beta, beta)\n",
    "    fM1 <- function(x.gamma){\n",
    "      dpois(x, lambda = 2*N*mu*x.gamma)*dgamma(x.gamma, shape = gamma.mean*beta, rate = beta)\n",
    "    }\n",
    "    ###Generate the lower and upper gamma values\n",
    "    x.gamma.temp <- rgamma(1000, shape = gamma.mean*beta, rate = beta)\n",
    "    gammaMin <- min(x.gamma.temp)\n",
    "    gammaMax <- max(x.gamma.temp)\n",
    "    \n",
    "    marg.lik1 <- integrate(fM1, gammaMin, gammaMax, subdivisions = 500L)$value\n",
    "\n",
    "    BF <- marg.lik1/marg.lik0\n",
    "  \n",
    "  return (BF)\n",
    "}\n"
   ]
  },
  {
   "cell_type": "code",
   "execution_count": 5,
   "id": "5fda05e8-1b5d-4330-a95c-6993e71278dc",
   "metadata": {},
   "outputs": [],
   "source": [
    "# We will run some examples to compare results "
   ]
  },
  {
   "cell_type": "code",
   "execution_count": 6,
   "id": "b72fdcda-cae4-40cd-b32f-51e45f3876dc",
   "metadata": {},
   "outputs": [
    {
     "data": {
      "text/html": [
       "<table class=\"dataframe\">\n",
       "<caption>A matrix: 12 × 4 of type dbl</caption>\n",
       "<thead>\n",
       "\t<tr><th scope=col>MutationRate</th><th scope=col>DenovoMutationNumber</th><th scope=col>BayesFactorFromTADA</th><th scope=col>BayesFactorFromNumericalIntegration</th></tr>\n",
       "</thead>\n",
       "<tbody>\n",
       "\t<tr><td>1e-06</td><td>0</td><td>   0.6865663</td><td>   0.6862166</td></tr>\n",
       "\t<tr><td>1e-06</td><td>1</td><td>  13.4620834</td><td>  13.4095888</td></tr>\n",
       "\t<tr><td>1e-06</td><td>2</td><td> 277.1605416</td><td> 276.7072410</td></tr>\n",
       "\t<tr><td>1e-06</td><td>3</td><td>5977.9724653</td><td>5896.0210919</td></tr>\n",
       "\t<tr><td>1e-08</td><td>0</td><td>   0.9962076</td><td>   0.9951913</td></tr>\n",
       "\t<tr><td>1e-08</td><td>1</td><td>  19.9201682</td><td>  19.9109932</td></tr>\n",
       "\t<tr><td>1e-08</td><td>2</td><td> 418.2398832</td><td> 418.1170221</td></tr>\n",
       "\t<tr><td>1e-08</td><td>3</td><td>9199.4375433</td><td>9141.5826462</td></tr>\n",
       "\t<tr><td>1e-10</td><td>0</td><td>   0.9999620</td><td>   0.9977574</td></tr>\n",
       "\t<tr><td>1e-10</td><td>1</td><td>  19.9992000</td><td>  19.9742497</td></tr>\n",
       "\t<tr><td>1e-10</td><td>2</td><td> 419.9823604</td><td> 419.8620798</td></tr>\n",
       "\t<tr><td>1e-10</td><td>3</td><td>9239.5934497</td><td>9219.4422477</td></tr>\n",
       "</tbody>\n",
       "</table>\n"
      ],
      "text/latex": [
       "A matrix: 12 × 4 of type dbl\n",
       "\\begin{tabular}{llll}\n",
       " MutationRate & DenovoMutationNumber & BayesFactorFromTADA & BayesFactorFromNumericalIntegration\\\\\n",
       "\\hline\n",
       "\t 1e-06 & 0 &    0.6865663 &    0.6862166\\\\\n",
       "\t 1e-06 & 1 &   13.4620834 &   13.4095888\\\\\n",
       "\t 1e-06 & 2 &  277.1605416 &  276.7072410\\\\\n",
       "\t 1e-06 & 3 & 5977.9724653 & 5896.0210919\\\\\n",
       "\t 1e-08 & 0 &    0.9962076 &    0.9951913\\\\\n",
       "\t 1e-08 & 1 &   19.9201682 &   19.9109932\\\\\n",
       "\t 1e-08 & 2 &  418.2398832 &  418.1170221\\\\\n",
       "\t 1e-08 & 3 & 9199.4375433 & 9141.5826462\\\\\n",
       "\t 1e-10 & 0 &    0.9999620 &    0.9977574\\\\\n",
       "\t 1e-10 & 1 &   19.9992000 &   19.9742497\\\\\n",
       "\t 1e-10 & 2 &  419.9823604 &  419.8620798\\\\\n",
       "\t 1e-10 & 3 & 9239.5934497 & 9219.4422477\\\\\n",
       "\\end{tabular}\n"
      ],
      "text/markdown": [
       "\n",
       "A matrix: 12 × 4 of type dbl\n",
       "\n",
       "| MutationRate | DenovoMutationNumber | BayesFactorFromTADA | BayesFactorFromNumericalIntegration |\n",
       "|---|---|---|---|\n",
       "| 1e-06 | 0 |    0.6865663 |    0.6862166 |\n",
       "| 1e-06 | 1 |   13.4620834 |   13.4095888 |\n",
       "| 1e-06 | 2 |  277.1605416 |  276.7072410 |\n",
       "| 1e-06 | 3 | 5977.9724653 | 5896.0210919 |\n",
       "| 1e-08 | 0 |    0.9962076 |    0.9951913 |\n",
       "| 1e-08 | 1 |   19.9201682 |   19.9109932 |\n",
       "| 1e-08 | 2 |  418.2398832 |  418.1170221 |\n",
       "| 1e-08 | 3 | 9199.4375433 | 9141.5826462 |\n",
       "| 1e-10 | 0 |    0.9999620 |    0.9977574 |\n",
       "| 1e-10 | 1 |   19.9992000 |   19.9742497 |\n",
       "| 1e-10 | 2 |  419.9823604 |  419.8620798 |\n",
       "| 1e-10 | 3 | 9239.5934497 | 9219.4422477 |\n",
       "\n"
      ],
      "text/plain": [
       "      MutationRate DenovoMutationNumber BayesFactorFromTADA\n",
       " [1,] 1e-06        0                       0.6865663       \n",
       " [2,] 1e-06        1                      13.4620834       \n",
       " [3,] 1e-06        2                     277.1605416       \n",
       " [4,] 1e-06        3                    5977.9724653       \n",
       " [5,] 1e-08        0                       0.9962076       \n",
       " [6,] 1e-08        1                      19.9201682       \n",
       " [7,] 1e-08        2                     418.2398832       \n",
       " [8,] 1e-08        3                    9199.4375433       \n",
       " [9,] 1e-10        0                       0.9999620       \n",
       "[10,] 1e-10        1                      19.9992000       \n",
       "[11,] 1e-10        2                     419.9823604       \n",
       "[12,] 1e-10        3                    9239.5934497       \n",
       "      BayesFactorFromNumericalIntegration\n",
       " [1,]    0.6862166                       \n",
       " [2,]   13.4095888                       \n",
       " [3,]  276.7072410                       \n",
       " [4,] 5896.0210919                       \n",
       " [5,]    0.9951913                       \n",
       " [6,]   19.9109932                       \n",
       " [7,]  418.1170221                       \n",
       " [8,] 9141.5826462                       \n",
       " [9,]    0.9977574                       \n",
       "[10,]   19.9742497                       \n",
       "[11,]  419.8620798                       \n",
       "[12,] 9219.4422477                       "
      ]
     },
     "metadata": {},
     "output_type": "display_data"
    }
   ],
   "source": [
    "###Some examples\n",
    "N = 10000\n",
    "beta = 1\n",
    "mu = 0.000018\n",
    "gamma.mean = 20\n",
    "x = 2\n",
    "\n",
    "outData <- NULL\n",
    "for (mu in c(10^-6, 10^-8, 10^-10)){\n",
    "    for (x in 0:3){\n",
    "        bf.from.TADA <- bayes.factor.denovo(x = x, N = N, mu = mu, \n",
    "                                            gamma.mean = gamma.mean, \n",
    "                                            beta = beta)\n",
    "\n",
    "        bf.from.numericalInt <- bayes.factor.denovo1(x = x, N = N, mu = mu, \n",
    "                                                     gamma.mean = gamma.mean, \n",
    "                                                     beta = beta)\n",
    "\n",
    "        outData <- rbind(outData,\n",
    "                         c(mu, x, bf.from.TADA, bf.from.numericalInt))\n",
    "        \n",
    "    }}\n",
    "\n",
    "\n",
    "colnames(outData) <- c(\"MutationRate\", \"DenovoMutationNumber\", \n",
    "                       \"BayesFactorFromTADA\", \"BayesFactorFromNumericalIntegration\")\n",
    "outData\n"
   ]
  },
  {
   "cell_type": "code",
   "execution_count": null,
   "id": "8d509999-e6aa-4c7c-b081-bf0459c68ed8",
   "metadata": {},
   "outputs": [],
   "source": []
  },
  {
   "cell_type": "code",
   "execution_count": null,
   "id": "8a29cf45-0b88-451b-a869-221eb4eeaaa4",
   "metadata": {},
   "outputs": [],
   "source": []
  },
  {
   "cell_type": "code",
   "execution_count": null,
   "id": "7145891d-af76-4151-bc10-1d0d9845d4f6",
   "metadata": {},
   "outputs": [],
   "source": []
  }
 ],
 "metadata": {
  "kernelspec": {
   "display_name": "R",
   "language": "R",
   "name": "ir"
  },
  "language_info": {
   "codemirror_mode": "r",
   "file_extension": ".r",
   "mimetype": "text/x-r-source",
   "name": "R",
   "pygments_lexer": "r",
   "version": "4.2.3"
  }
 },
 "nbformat": 4,
 "nbformat_minor": 5
}
